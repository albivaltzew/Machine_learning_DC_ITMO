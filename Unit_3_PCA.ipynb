{
  "nbformat": 4,
  "nbformat_minor": 0,
  "metadata": {
    "colab": {
      "provenance": [],
      "authorship_tag": "ABX9TyP+0OOzSsYXrahDoZGA6mhr",
      "include_colab_link": true
    },
    "kernelspec": {
      "name": "python3",
      "display_name": "Python 3"
    },
    "language_info": {
      "name": "python"
    }
  },
  "cells": [
    {
      "cell_type": "markdown",
      "metadata": {
        "id": "view-in-github",
        "colab_type": "text"
      },
      "source": [
        "<a href=\"https://colab.research.google.com/github/albivaltzew/Machine_learning_DC_ITMO/blob/main/Unit_3_PCA.ipynb\" target=\"_parent\"><img src=\"https://colab.research.google.com/assets/colab-badge.svg\" alt=\"Open In Colab\"/></a>"
      ]
    },
    {
      "cell_type": "markdown",
      "source": [
        "### Задание 1"
      ],
      "metadata": {
        "id": "WhIGEbaQcTBL"
      }
    },
    {
      "cell_type": "code",
      "execution_count": null,
      "metadata": {
        "id": "VWv1Ov0uRyiA"
      },
      "outputs": [],
      "source": [
        "import pandas as pd\n",
        "import numpy as np\n",
        "from sklearn.decomposition import PCA\n",
        "\n",
        "db = pd.read_csv(\"24_25.csv\", header=None)\n"
      ]
    },
    {
      "cell_type": "code",
      "source": [
        "db = pd.read_csv(\"24_25.csv\", header=None)\n",
        "\n",
        "arr = db.to_numpy()\n",
        "center_function = lambda x: x - x.mean()\n",
        "F = center_function(arr)"
      ],
      "metadata": {
        "id": "OFXQU6rfl0WF"
      },
      "execution_count": null,
      "outputs": []
    },
    {
      "cell_type": "code",
      "source": [
        "from sklearn.decomposition import PCA\n",
        "# определение количества компонент для сохранения 85% информации \n",
        "pca = PCA(.85)\n",
        "pca.fit(F)\n",
        "pca.n_components_\n",
        "# pca = PCA(n_components = 2)\n",
        "# XPCAreduced = pca.fit_transform(transpose(X))"
      ],
      "metadata": {
        "colab": {
          "base_uri": "https://localhost:8080/"
        },
        "id": "qgDTjL_SwLHT",
        "outputId": "c977c943-23eb-4218-aa4f-38927a3328ab"
      },
      "execution_count": null,
      "outputs": [
        {
          "output_type": "execute_result",
          "data": {
            "text/plain": [
              "3"
            ]
          },
          "metadata": {},
          "execution_count": 3
        }
      ]
    },
    {
      "cell_type": "code",
      "source": [
        "from sklearn.decomposition import PCA\n",
        "pca = PCA(n_components=2)\n",
        "principalComponents = pca.fit_transform(F)\n",
        "principalDf = pd.DataFrame(data = principalComponents\n",
        "             , columns = ['principal component 1', 'principal component 2'])\n",
        "\n",
        "variance = pca.explained_variance_ratio_[0]+pca.explained_variance_ratio_[1]\n",
        "# Объясненная дисперсия\n",
        "print(round(variance, 3))\n",
        "# print(principalDf)\n",
        "m = principalDf.to_numpy()\n",
        "\n",
        "vec1 = m[:,0]\n",
        "vec2 = m[:,1]"
      ],
      "metadata": {
        "colab": {
          "base_uri": "https://localhost:8080/"
        },
        "id": "0a5gpV9vXNnn",
        "outputId": "da0195cd-fed8-4a2b-99a1-bebcdadd8a5f"
      },
      "execution_count": null,
      "outputs": [
        {
          "output_type": "stream",
          "name": "stdout",
          "text": [
            "0.699\n"
          ]
        }
      ]
    },
    {
      "cell_type": "code",
      "source": [
        "vec2\n"
      ],
      "metadata": {
        "colab": {
          "base_uri": "https://localhost:8080/"
        },
        "id": "zclJV6mFTkY3",
        "outputId": "b6465121-50da-40e2-e9e0-1f52e1f4ff00"
      },
      "execution_count": null,
      "outputs": [
        {
          "output_type": "execute_result",
          "data": {
            "text/plain": [
              "array([-19.31528224, -18.17084641, -18.89512025, -14.89148091,\n",
              "       -16.42905383,  27.18688791,  31.14228084, -17.55108892,\n",
              "        31.56421434,  17.17558729,  19.61300671, -12.70766629,\n",
              "        18.36293485, -20.50150082,  16.89724781, -21.65525711,\n",
              "        30.05266383,  20.66419417, -12.34464472, -19.6796322 ,\n",
              "       -18.63535118, -20.68442367,  29.15064945, -12.17306754,\n",
              "       -13.60539433, -17.40174973,  30.11609157,  20.77746283,\n",
              "        29.74460735, -17.05809036,  20.07463325, -17.11085441,\n",
              "       -15.96781194,  28.96428487,  18.17993613, -11.26056019,\n",
              "        27.46474376, -11.81507056,  31.48929149, -10.23702293,\n",
              "       -12.75295889, -19.26575314,  27.40293988, -17.52138898,\n",
              "       -13.35742335,  19.09797143,  30.31819081, -16.11933027,\n",
              "       -14.41408482,  20.37423741, -12.95934277, -15.07880306,\n",
              "       -15.12812223, -15.74764115,  17.04627686,  18.69825429,\n",
              "       -17.79317162, -19.28813284, -17.769677  , -16.27178846])"
            ]
          },
          "metadata": {},
          "execution_count": 6
        }
      ]
    },
    {
      "cell_type": "code",
      "source": [
        "import matplotlib.pyplot as plt\n",
        "\n",
        "fig = plt.figure(figsize = (8,8))\n",
        "ax = fig.add_subplot(1,1,1) \n",
        "ax.set_xlabel('Principal Component 1', fontsize = 15)\n",
        "ax.set_ylabel('Principal Component 2', fontsize = 15)\n",
        "colors = ['r', 'g', 'b']\n",
        "\n",
        "\n",
        "ax.scatter(vec1,vec2\n",
        "              #  , c = colors\n",
        "               , s = 50)\n",
        "# ax.legend(targets)\n",
        "ax.grid()"
      ],
      "metadata": {
        "colab": {
          "base_uri": "https://localhost:8080/",
          "height": 502
        },
        "id": "Vw_rLLmfXwdQ",
        "outputId": "530d053e-ae53-4748-ad93-e669634c64d7"
      },
      "execution_count": null,
      "outputs": [
        {
          "output_type": "display_data",
          "data": {
            "text/plain": [
              "<Figure size 576x576 with 1 Axes>"
            ],
            "image/png": "[encoded data removed]"
          },
          "metadata": {
            "needs_background": "light"
          }
        }
      ]
    },
    {
      "cell_type": "markdown",
      "source": [
        "## Задание 2"
      ],
      "metadata": {
        "id": "dJ1Goy1Ccbg2"
      }
    },
    {
      "cell_type": "code",
      "source": [
        "db_phi = pd.read_csv(\"/content/матрица весов.csv\",delimiter=\";\", header=None)\n",
        "db_z = pd.read_csv(\"/content/матрица счетов.csv\",delimiter=\";\", header=None)\n",
        "phi = db_phi.to_numpy()\n",
        "z = db_z.to_numpy()\n",
        "db_phi\n",
        "db_z"
      ],
      "metadata": {
        "colab": {
          "base_uri": "https://localhost:8080/",
          "height": 419
        },
        "id": "J3Mkobz9cfRR",
        "outputId": "2c17230f-87f2-4e31-871c-19ec83e1ff30"
      },
      "execution_count": null,
      "outputs": [
        {
          "output_type": "execute_result",
          "data": {
            "text/plain": [
              "             0          1          2          3        4         5         6  \\\n",
              "0  -234.027262 -66.060882 -55.891758  16.161093  5.85578  2.093322  1.454564   \n",
              "1  -234.027262 -66.060882 -55.891758  16.161093  5.85578  2.093322  1.454564   \n",
              "2  -234.027262 -66.060882 -55.891758  16.161093  5.85578  2.093322  1.454564   \n",
              "3  -234.027262 -66.060882 -55.891758  16.161093  5.85578  2.093322  1.454564   \n",
              "4  -234.027262 -66.060882 -55.891758  16.161093  5.85578  2.093322  1.454564   \n",
              "..         ...        ...        ...        ...      ...       ...       ...   \n",
              "95 -234.027262 -66.060882 -55.891758  16.161093  5.85578  2.093322  1.454564   \n",
              "96 -234.027262 -66.060882 -55.891758  16.161093  5.85578  2.093322  1.454564   \n",
              "97 -234.027262 -66.060882 -55.891758  16.161093  5.85578  2.093322  1.454564   \n",
              "98 -234.027262 -66.060882 -55.891758  16.161093  5.85578  2.093322  1.454564   \n",
              "99 -234.027262 -66.060882 -55.891758  16.161093  5.85578  2.093322  1.454564   \n",
              "\n",
              "          7         8         9  \n",
              "0   0.46592 -0.490161  1.764514  \n",
              "1   0.46592 -0.490161  1.764514  \n",
              "2   0.46592 -0.490161  1.764514  \n",
              "3   0.46592 -0.490161  1.764514  \n",
              "4   0.46592 -0.490161  1.764514  \n",
              "..      ...       ...       ...  \n",
              "95  0.46592 -0.490161  1.764514  \n",
              "96  0.46592 -0.490161  1.764514  \n",
              "97  0.46592 -0.490161  1.764514  \n",
              "98  0.46592 -0.490161  1.764514  \n",
              "99  0.46592 -0.490161  1.764514  \n",
              "\n",
              "[100 rows x 10 columns]"
            ],
            "text/html": [
              "\n",
              "  <div id=\"df-3487a619-73c8-47f1-b385-b290e76a15a8\">\n",
              "    <div class=\"colab-df-container\">\n",
              "      <div>\n",
              "<style scoped>\n",
              "    .dataframe tbody tr th:only-of-type {\n",
              "        vertical-align: middle;\n",
              "    }\n",
              "\n",
              "    .dataframe tbody tr th {\n",
              "        vertical-align: top;\n",
              "    }\n",
              "\n",
              "    .dataframe thead th {\n",
              "        text-align: right;\n",
              "    }\n",
              "</style>\n",
              "<table border=\"1\" class=\"dataframe\">\n",
              "  <thead>\n",
              "    <tr style=\"text-align: right;\">\n",
              "      <th></th>\n",
              "      <th>0</th>\n",
              "      <th>1</th>\n",
              "      <th>2</th>\n",
              "      <th>3</th>\n",
              "      <th>4</th>\n",
              "      <th>5</th>\n",
              "      <th>6</th>\n",
              "      <th>7</th>\n",
              "      <th>8</th>\n",
              "      <th>9</th>\n",
              "    </tr>\n",
              "  </thead>\n",
              "  <tbody>\n",
              "    <tr>\n",
              "      <th>0</th>\n",
              "      <td>-234.027262</td>\n",
              "      <td>-66.060882</td>\n",
              "      <td>-55.891758</td>\n",
              "      <td>16.161093</td>\n",
              "      <td>5.85578</td>\n",
              "      <td>2.093322</td>\n",
              "      <td>1.454564</td>\n",
              "      <td>0.46592</td>\n",
              "      <td>-0.490161</td>\n",
              "      <td>1.764514</td>\n",
              "    </tr>\n",
              "    <tr>\n",
              "      <th>1</th>\n",
              "      <td>-234.027262</td>\n",
              "      <td>-66.060882</td>\n",
              "      <td>-55.891758</td>\n",
              "      <td>16.161093</td>\n",
              "      <td>5.85578</td>\n",
              "      <td>2.093322</td>\n",
              "      <td>1.454564</td>\n",
              "      <td>0.46592</td>\n",
              "      <td>-0.490161</td>\n",
              "      <td>1.764514</td>\n",
              "    </tr>\n",
              "    <tr>\n",
              "      <th>2</th>\n",
              "      <td>-234.027262</td>\n",
              "      <td>-66.060882</td>\n",
              "      <td>-55.891758</td>\n",
              "      <td>16.161093</td>\n",
              "      <td>5.85578</td>\n",
              "      <td>2.093322</td>\n",
              "      <td>1.454564</td>\n",
              "      <td>0.46592</td>\n",
              "      <td>-0.490161</td>\n",
              "      <td>1.764514</td>\n",
              "    </tr>\n",
              "    <tr>\n",
              "      <th>3</th>\n",
              "      <td>-234.027262</td>\n",
              "      <td>-66.060882</td>\n",
              "      <td>-55.891758</td>\n",
              "      <td>16.161093</td>\n",
              "      <td>5.85578</td>\n",
              "      <td>2.093322</td>\n",
              "      <td>1.454564</td>\n",
              "      <td>0.46592</td>\n",
              "      <td>-0.490161</td>\n",
              "      <td>1.764514</td>\n",
              "    </tr>\n",
              "    <tr>\n",
              "      <th>4</th>\n",
              "      <td>-234.027262</td>\n",
              "      <td>-66.060882</td>\n",
              "      <td>-55.891758</td>\n",
              "      <td>16.161093</td>\n",
              "      <td>5.85578</td>\n",
              "      <td>2.093322</td>\n",
              "      <td>1.454564</td>\n",
              "      <td>0.46592</td>\n",
              "      <td>-0.490161</td>\n",
              "      <td>1.764514</td>\n",
              "    </tr>\n",
              "    <tr>\n",
              "      <th>...</th>\n",
              "      <td>...</td>\n",
              "      <td>...</td>\n",
              "      <td>...</td>\n",
              "      <td>...</td>\n",
              "      <td>...</td>\n",
              "      <td>...</td>\n",
              "      <td>...</td>\n",
              "      <td>...</td>\n",
              "      <td>...</td>\n",
              "      <td>...</td>\n",
              "    </tr>\n",
              "    <tr>\n",
              "      <th>95</th>\n",
              "      <td>-234.027262</td>\n",
              "      <td>-66.060882</td>\n",
              "      <td>-55.891758</td>\n",
              "      <td>16.161093</td>\n",
              "      <td>5.85578</td>\n",
              "      <td>2.093322</td>\n",
              "      <td>1.454564</td>\n",
              "      <td>0.46592</td>\n",
              "      <td>-0.490161</td>\n",
              "      <td>1.764514</td>\n",
              "    </tr>\n",
              "    <tr>\n",
              "      <th>96</th>\n",
              "      <td>-234.027262</td>\n",
              "      <td>-66.060882</td>\n",
              "      <td>-55.891758</td>\n",
              "      <td>16.161093</td>\n",
              "      <td>5.85578</td>\n",
              "      <td>2.093322</td>\n",
              "      <td>1.454564</td>\n",
              "      <td>0.46592</td>\n",
              "      <td>-0.490161</td>\n",
              "      <td>1.764514</td>\n",
              "    </tr>\n",
              "    <tr>\n",
              "      <th>97</th>\n",
              "      <td>-234.027262</td>\n",
              "      <td>-66.060882</td>\n",
              "      <td>-55.891758</td>\n",
              "      <td>16.161093</td>\n",
              "      <td>5.85578</td>\n",
              "      <td>2.093322</td>\n",
              "      <td>1.454564</td>\n",
              "      <td>0.46592</td>\n",
              "      <td>-0.490161</td>\n",
              "      <td>1.764514</td>\n",
              "    </tr>\n",
              "    <tr>\n",
              "      <th>98</th>\n",
              "      <td>-234.027262</td>\n",
              "      <td>-66.060882</td>\n",
              "      <td>-55.891758</td>\n",
              "      <td>16.161093</td>\n",
              "      <td>5.85578</td>\n",
              "      <td>2.093322</td>\n",
              "      <td>1.454564</td>\n",
              "      <td>0.46592</td>\n",
              "      <td>-0.490161</td>\n",
              "      <td>1.764514</td>\n",
              "    </tr>\n",
              "    <tr>\n",
              "      <th>99</th>\n",
              "      <td>-234.027262</td>\n",
              "      <td>-66.060882</td>\n",
              "      <td>-55.891758</td>\n",
              "      <td>16.161093</td>\n",
              "      <td>5.85578</td>\n",
              "      <td>2.093322</td>\n",
              "      <td>1.454564</td>\n",
              "      <td>0.46592</td>\n",
              "      <td>-0.490161</td>\n",
              "      <td>1.764514</td>\n",
              "    </tr>\n",
              "  </tbody>\n",
              "</table>\n",
              "<p>100 rows × 10 columns</p>\n",
              "</div>\n",
              "      <button class=\"colab-df-convert\" onclick=\"convertToInteractive('df-3487a619-73c8-47f1-b385-b290e76a15a8')\"\n",
              "              title=\"Convert this dataframe to an interactive table.\"\n",
              "              style=\"display:none;\">\n",
              "        \n",
              "  <svg xmlns=\"http://www.w3.org/2000/svg\" height=\"24px\"viewBox=\"0 0 24 24\"\n",
              "       width=\"24px\">\n",
              "    <path d=\"M0 0h24v24H0V0z\" fill=\"none\"/>\n",
              "    <path d=\"M18.56 5.44l.94 2.06.94-2.06 2.06-.94-2.06-.94-.94-2.06-.94 2.06-2.06.94zm-11 1L8.5 8.5l.94-2.06 2.06-.94-2.06-.94L8.5 2.5l-.94 2.06-2.06.94zm10 10l.94 2.06.94-2.06 2.06-.94-2.06-.94-.94-2.06-.94 2.06-2.06.94z\"/><path d=\"M17.41 7.96l-1.37-1.37c-.4-.4-.92-.59-1.43-.59-.52 0-1.04.2-1.43.59L10.3 9.45l-7.72 7.72c-.78.78-.78 2.05 0 2.83L4 21.41c.39.39.9.59 1.41.59.51 0 1.02-.2 1.41-.59l7.78-7.78 2.81-2.81c.8-.78.8-2.07 0-2.86zM5.41 20L4 18.59l7.72-7.72 1.47 1.35L5.41 20z\"/>\n",
              "  </svg>\n",
              "      </button>\n",
              "      \n",
              "  <style>\n",
              "    .colab-df-container {\n",
              "      display:flex;\n",
              "      flex-wrap:wrap;\n",
              "      gap: 12px;\n",
              "    }\n",
              "\n",
              "    .colab-df-convert {\n",
              "      background-color: #E8F0FE;\n",
              "      border: none;\n",
              "      border-radius: 50%;\n",
              "      cursor: pointer;\n",
              "      display: none;\n",
              "      fill: #1967D2;\n",
              "      height: 32px;\n",
              "      padding: 0 0 0 0;\n",
              "      width: 32px;\n",
              "    }\n",
              "\n",
              "    .colab-df-convert:hover {\n",
              "      background-color: #E2EBFA;\n",
              "      box-shadow: 0px 1px 2px rgba(60, 64, 67, 0.3), 0px 1px 3px 1px rgba(60, 64, 67, 0.15);\n",
              "      fill: #174EA6;\n",
              "    }\n",
              "\n",
              "    [theme=dark] .colab-df-convert {\n",
              "      background-color: #3B4455;\n",
              "      fill: #D2E3FC;\n",
              "    }\n",
              "\n",
              "    [theme=dark] .colab-df-convert:hover {\n",
              "      background-color: #434B5C;\n",
              "      box-shadow: 0px 1px 3px 1px rgba(0, 0, 0, 0.15);\n",
              "      filter: drop-shadow(0px 1px 2px rgba(0, 0, 0, 0.3));\n",
              "      fill: #FFFFFF;\n",
              "    }\n",
              "  </style>\n",
              "\n",
              "      <script>\n",
              "        const buttonEl =\n",
              "          document.querySelector('#df-3487a619-73c8-47f1-b385-b290e76a15a8 button.colab-df-convert');\n",
              "        buttonEl.style.display =\n",
              "          google.colab.kernel.accessAllowed ? 'block' : 'none';\n",
              "\n",
              "        async function convertToInteractive(key) {\n",
              "          const element = document.querySelector('#df-3487a619-73c8-47f1-b385-b290e76a15a8');\n",
              "          const dataTable =\n",
              "            await google.colab.kernel.invokeFunction('convertToInteractive',\n",
              "                                                     [key], {});\n",
              "          if (!dataTable) return;\n",
              "\n",
              "          const docLinkHtml = 'Like what you see? Visit the ' +\n",
              "            '<a target=\"_blank\" href=https://colab.research.google.com/notebooks/data_table.ipynb>data table notebook</a>'\n",
              "            + ' to learn more about interactive tables.';\n",
              "          element.innerHTML = '';\n",
              "          dataTable['output_type'] = 'display_data';\n",
              "          await google.colab.output.renderOutput(dataTable, element);\n",
              "          const docLink = document.createElement('div');\n",
              "          docLink.innerHTML = docLinkHtml;\n",
              "          element.appendChild(docLink);\n",
              "        }\n",
              "      </script>\n",
              "    </div>\n",
              "  </div>\n",
              "  "
            ]
          },
          "metadata": {},
          "execution_count": 110
        }
      ]
    },
    {
      "cell_type": "code",
      "source": [
        "from google.colab.patches import cv2_imshow\n",
        "phi_transpose = np.transpose(phi)\n",
        "F = np.matmul(z, phi_transpose)\n",
        "cv2_imshow(F)"
      ],
      "metadata": {
        "colab": {
          "base_uri": "https://localhost:8080/",
          "height": 117
        },
        "id": "G71t2CIkedy7",
        "outputId": "30b09c86-80a3-439c-8377-4a72c3a939aa"
      },
      "execution_count": null,
      "outputs": [
        {
          "output_type": "display_data",
          "data": {
            "text/plain": [
              "<PIL.Image.Image image mode=L size=100x100 at 0x7FAFA5E73D50>"
            ],
            "image/png": "[encoded data removed]"
          },
          "metadata": {}
        }
      ]
    }
  ]
}