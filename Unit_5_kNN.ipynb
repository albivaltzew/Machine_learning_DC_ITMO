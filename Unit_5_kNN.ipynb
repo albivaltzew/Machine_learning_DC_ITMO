{
  "nbformat": 4,
  "nbformat_minor": 0,
  "metadata": {
    "colab": {
      "provenance": [],
      "authorship_tag": "ABX9TyOGR+102qjmgMzA/9duL9AA",
      "include_colab_link": true
    },
    "kernelspec": {
      "name": "python3",
      "display_name": "Python 3"
    },
    "language_info": {
      "name": "python"
    }
  },
  "cells": [
    {
      "cell_type": "markdown",
      "metadata": {
        "id": "view-in-github",
        "colab_type": "text"
      },
      "source": [
        "<a href=\"https://colab.research.google.com/github/albivaltzew/Machine_learning_DC_ITMO/blob/main/Unit_5_kNN.ipynb\" target=\"_parent\"><img src=\"https://colab.research.google.com/assets/colab-badge.svg\" alt=\"Open In Colab\"/></a>"
      ]
    },
    {
      "cell_type": "markdown",
      "source": [
        "#Опросы"
      ],
      "metadata": {
        "id": "A3en5Hn0rK7Q"
      }
    },
    {
      "cell_type": "code",
      "source": [
        "import numpy as np"
      ],
      "metadata": {
        "id": "B45WIChJvpDn"
      },
      "execution_count": null,
      "outputs": []
    },
    {
      "cell_type": "code",
      "execution_count": null,
      "metadata": {
        "id": "CKeOpQakvH7Z"
      },
      "outputs": [],
      "source": [
        "x = [1,3,-5,7]\n",
        "y = [2,-4,0,8]"
      ]
    },
    {
      "cell_type": "markdown",
      "source": [
        "Евклидово"
      ],
      "metadata": {
        "id": "h0Kvn6vWwVf2"
      }
    },
    {
      "cell_type": "code",
      "source": [
        "sum = 0\n",
        "for i in range(len(x)):\n",
        "  sum +=(x[i] - y[i])**2\n",
        "dE = np.sqrt(sum)\n",
        "dE"
      ],
      "metadata": {
        "colab": {
          "base_uri": "https://localhost:8080/"
        },
        "id": "J0AmbhMNvfcM",
        "outputId": "b98ef77d-12f3-40b5-c1e8-7299e5949e2b"
      },
      "execution_count": null,
      "outputs": [
        {
          "output_type": "execute_result",
          "data": {
            "text/plain": [
              "8.717797887081348"
            ]
          },
          "metadata": {},
          "execution_count": 210
        }
      ]
    },
    {
      "cell_type": "markdown",
      "source": [
        "Манхэттенское"
      ],
      "metadata": {
        "id": "7DwVyOKvwZCq"
      }
    },
    {
      "cell_type": "code",
      "source": [
        "sum = 0\n",
        "for i in range(len(x)):\n",
        "  sum +=abs(x[i] - y[i])\n",
        "dM = sum\n",
        "dM"
      ],
      "metadata": {
        "colab": {
          "base_uri": "https://localhost:8080/"
        },
        "id": "w7-Ff2wAwU3K",
        "outputId": "084cfb61-f581-403a-fa88-1effea3b9c60"
      },
      "execution_count": null,
      "outputs": [
        {
          "output_type": "execute_result",
          "data": {
            "text/plain": [
              "14"
            ]
          },
          "metadata": {},
          "execution_count": 211
        }
      ]
    },
    {
      "cell_type": "markdown",
      "source": [
        "Чебышев"
      ],
      "metadata": {
        "id": "KxSYyWhfwd_3"
      }
    },
    {
      "cell_type": "code",
      "source": [
        "temp = []\n",
        "for i in range(len(x)):\n",
        "  temp.append(abs(x[i] - y[i]))\n",
        "dCHE = max(temp)\n",
        "dCHE"
      ],
      "metadata": {
        "colab": {
          "base_uri": "https://localhost:8080/"
        },
        "id": "OJZFH_KIwn58",
        "outputId": "f9d60f2e-af8a-4b73-fd5b-54c1dcbd5c96"
      },
      "execution_count": null,
      "outputs": [
        {
          "output_type": "execute_result",
          "data": {
            "text/plain": [
              "7"
            ]
          },
          "metadata": {},
          "execution_count": 212
        }
      ]
    },
    {
      "cell_type": "markdown",
      "source": [
        "# Задание 5.4"
      ],
      "metadata": {
        "id": "wfmxCwIQrGDh"
      }
    },
    {
      "cell_type": "code",
      "source": [
        "# importing modules and packages\n",
        "import pandas as pd\n",
        "import numpy as np\n",
        "import matplotlib.pyplot as plt"
      ],
      "metadata": {
        "id": "PIBLXq-Ew8im"
      },
      "execution_count": null,
      "outputs": []
    },
    {
      "cell_type": "code",
      "source": [
        "df = pd.read_csv(\"5_kNN.csv\", delimiter=\";\",header = 0, index_col='id')\n",
        "df"
      ],
      "metadata": {
        "colab": {
          "base_uri": "https://localhost:8080/",
          "height": 299
        },
        "id": "AQ562vGw1uIv",
        "outputId": "7894809c-ffbe-45fe-f13d-1027263d181e"
      },
      "execution_count": null,
      "outputs": [
        {
          "output_type": "execute_result",
          "data": {
            "text/plain": [
              "     X   Y  Class\n",
              "id               \n",
              "1   28  10      1\n",
              "2   49  49      1\n",
              "3   48  35      0\n",
              "4   36  33      1\n",
              "5   45  54      0"
            ],
            "text/html": [
              "\n",
              "  <div id=\"df-3b44d537-f191-4e9e-8d5e-41b3a852461d\">\n",
              "    <div class=\"colab-df-container\">\n",
              "      <div>\n",
              "<style scoped>\n",
              "    .dataframe tbody tr th:only-of-type {\n",
              "        vertical-align: middle;\n",
              "    }\n",
              "\n",
              "    .dataframe tbody tr th {\n",
              "        vertical-align: top;\n",
              "    }\n",
              "\n",
              "    .dataframe thead th {\n",
              "        text-align: right;\n",
              "    }\n",
              "</style>\n",
              "<table border=\"1\" class=\"dataframe\">\n",
              "  <thead>\n",
              "    <tr style=\"text-align: right;\">\n",
              "      <th></th>\n",
              "      <th>X</th>\n",
              "      <th>Y</th>\n",
              "      <th>Class</th>\n",
              "    </tr>\n",
              "    <tr>\n",
              "      <th>id</th>\n",
              "      <th></th>\n",
              "      <th></th>\n",
              "      <th></th>\n",
              "    </tr>\n",
              "  </thead>\n",
              "  <tbody>\n",
              "    <tr>\n",
              "      <th>1</th>\n",
              "      <td>28</td>\n",
              "      <td>10</td>\n",
              "      <td>1</td>\n",
              "    </tr>\n",
              "    <tr>\n",
              "      <th>2</th>\n",
              "      <td>49</td>\n",
              "      <td>49</td>\n",
              "      <td>1</td>\n",
              "    </tr>\n",
              "    <tr>\n",
              "      <th>3</th>\n",
              "      <td>48</td>\n",
              "      <td>35</td>\n",
              "      <td>0</td>\n",
              "    </tr>\n",
              "    <tr>\n",
              "      <th>4</th>\n",
              "      <td>36</td>\n",
              "      <td>33</td>\n",
              "      <td>1</td>\n",
              "    </tr>\n",
              "    <tr>\n",
              "      <th>5</th>\n",
              "      <td>45</td>\n",
              "      <td>54</td>\n",
              "      <td>0</td>\n",
              "    </tr>\n",
              "  </tbody>\n",
              "</table>\n",
              "</div>\n",
              "      <button class=\"colab-df-convert\" onclick=\"convertToInteractive('df-3b44d537-f191-4e9e-8d5e-41b3a852461d')\"\n",
              "              title=\"Convert this dataframe to an interactive table.\"\n",
              "              style=\"display:none;\">\n",
              "        \n",
              "  <svg xmlns=\"http://www.w3.org/2000/svg\" height=\"24px\"viewBox=\"0 0 24 24\"\n",
              "       width=\"24px\">\n",
              "    <path d=\"M0 0h24v24H0V0z\" fill=\"none\"/>\n",
              "    <path d=\"M18.56 5.44l.94 2.06.94-2.06 2.06-.94-2.06-.94-.94-2.06-.94 2.06-2.06.94zm-11 1L8.5 8.5l.94-2.06 2.06-.94-2.06-.94L8.5 2.5l-.94 2.06-2.06.94zm10 10l.94 2.06.94-2.06 2.06-.94-2.06-.94-.94-2.06-.94 2.06-2.06.94z\"/><path d=\"M17.41 7.96l-1.37-1.37c-.4-.4-.92-.59-1.43-.59-.52 0-1.04.2-1.43.59L10.3 9.45l-7.72 7.72c-.78.78-.78 2.05 0 2.83L4 21.41c.39.39.9.59 1.41.59.51 0 1.02-.2 1.41-.59l7.78-7.78 2.81-2.81c.8-.78.8-2.07 0-2.86zM5.41 20L4 18.59l7.72-7.72 1.47 1.35L5.41 20z\"/>\n",
              "  </svg>\n",
              "      </button>\n",
              "      \n",
              "  <style>\n",
              "    .colab-df-container {\n",
              "      display:flex;\n",
              "      flex-wrap:wrap;\n",
              "      gap: 12px;\n",
              "    }\n",
              "\n",
              "    .colab-df-convert {\n",
              "      background-color: #E8F0FE;\n",
              "      border: none;\n",
              "      border-radius: 50%;\n",
              "      cursor: pointer;\n",
              "      display: none;\n",
              "      fill: #1967D2;\n",
              "      height: 32px;\n",
              "      padding: 0 0 0 0;\n",
              "      width: 32px;\n",
              "    }\n",
              "\n",
              "    .colab-df-convert:hover {\n",
              "      background-color: #E2EBFA;\n",
              "      box-shadow: 0px 1px 2px rgba(60, 64, 67, 0.3), 0px 1px 3px 1px rgba(60, 64, 67, 0.15);\n",
              "      fill: #174EA6;\n",
              "    }\n",
              "\n",
              "    [theme=dark] .colab-df-convert {\n",
              "      background-color: #3B4455;\n",
              "      fill: #D2E3FC;\n",
              "    }\n",
              "\n",
              "    [theme=dark] .colab-df-convert:hover {\n",
              "      background-color: #434B5C;\n",
              "      box-shadow: 0px 1px 3px 1px rgba(0, 0, 0, 0.15);\n",
              "      filter: drop-shadow(0px 1px 2px rgba(0, 0, 0, 0.3));\n",
              "      fill: #FFFFFF;\n",
              "    }\n",
              "  </style>\n",
              "\n",
              "      <script>\n",
              "        const buttonEl =\n",
              "          document.querySelector('#df-3b44d537-f191-4e9e-8d5e-41b3a852461d button.colab-df-convert');\n",
              "        buttonEl.style.display =\n",
              "          google.colab.kernel.accessAllowed ? 'block' : 'none';\n",
              "\n",
              "        async function convertToInteractive(key) {\n",
              "          const element = document.querySelector('#df-3b44d537-f191-4e9e-8d5e-41b3a852461d');\n",
              "          const dataTable =\n",
              "            await google.colab.kernel.invokeFunction('convertToInteractive',\n",
              "                                                     [key], {});\n",
              "          if (!dataTable) return;\n",
              "\n",
              "          const docLinkHtml = 'Like what you see? Visit the ' +\n",
              "            '<a target=\"_blank\" href=https://colab.research.google.com/notebooks/data_table.ipynb>data table notebook</a>'\n",
              "            + ' to learn more about interactive tables.';\n",
              "          element.innerHTML = '';\n",
              "          dataTable['output_type'] = 'display_data';\n",
              "          await google.colab.output.renderOutput(dataTable, element);\n",
              "          const docLink = document.createElement('div');\n",
              "          docLink.innerHTML = docLinkHtml;\n",
              "          element.appendChild(docLink);\n",
              "        }\n",
              "      </script>\n",
              "    </div>\n",
              "  </div>\n",
              "  "
            ]
          },
          "metadata": {},
          "execution_count": 214
        }
      ]
    },
    {
      "cell_type": "code",
      "source": [
        "df.plot(x='X', y='Y', kind='scatter')\t"
      ],
      "metadata": {
        "colab": {
          "base_uri": "https://localhost:8080/",
          "height": 105
        },
        "id": "6MyM10Bj16-n",
        "outputId": "bc652b9f-28fd-407c-c7cc-f7fdbcad8350"
      },
      "execution_count": null,
      "outputs": [
        {
          "output_type": "execute_result",
          "data": {
            "text/plain": [
              "<matplotlib.axes._subplots.AxesSubplot at 0x7f9814151990>"
            ]
          },
          "metadata": {},
          "execution_count": 215
        },
        {
          "output_type": "display_data",
          "data": {
            "text/plain": [
              "<Figure size 432x288 with 1 Axes>"
            ],
            "image/png": "[encoded data removed]"
          },
          "metadata": {
            "needs_background": "light"
          }
        }
      ]
    },
    {
      "cell_type": "code",
      "source": [
        "df1 = df.drop(['Class'],axis=1)\n",
        "df1"
      ],
      "metadata": {
        "colab": {
          "base_uri": "https://localhost:8080/",
          "height": 299
        },
        "id": "ZuPrWwhX8dcd",
        "outputId": "7da5bd0f-7844-46e2-e1ec-7ab0e3196874"
      },
      "execution_count": null,
      "outputs": [
        {
          "output_type": "execute_result",
          "data": {
            "text/plain": [
              "     X   Y\n",
              "id        \n",
              "1   28  10\n",
              "2   49  49\n",
              "3   48  35\n",
              "4   36  33\n",
              "5   45  54"
            ],
            "text/html": [
              "\n",
              "  <div id=\"df-eb257fd1-74e3-4135-a7cf-ae145ffdbe9b\">\n",
              "    <div class=\"colab-df-container\">\n",
              "      <div>\n",
              "<style scoped>\n",
              "    .dataframe tbody tr th:only-of-type {\n",
              "        vertical-align: middle;\n",
              "    }\n",
              "\n",
              "    .dataframe tbody tr th {\n",
              "        vertical-align: top;\n",
              "    }\n",
              "\n",
              "    .dataframe thead th {\n",
              "        text-align: right;\n",
              "    }\n",
              "</style>\n",
              "<table border=\"1\" class=\"dataframe\">\n",
              "  <thead>\n",
              "    <tr style=\"text-align: right;\">\n",
              "      <th></th>\n",
              "      <th>X</th>\n",
              "      <th>Y</th>\n",
              "    </tr>\n",
              "    <tr>\n",
              "      <th>id</th>\n",
              "      <th></th>\n",
              "      <th></th>\n",
              "    </tr>\n",
              "  </thead>\n",
              "  <tbody>\n",
              "    <tr>\n",
              "      <th>1</th>\n",
              "      <td>28</td>\n",
              "      <td>10</td>\n",
              "    </tr>\n",
              "    <tr>\n",
              "      <th>2</th>\n",
              "      <td>49</td>\n",
              "      <td>49</td>\n",
              "    </tr>\n",
              "    <tr>\n",
              "      <th>3</th>\n",
              "      <td>48</td>\n",
              "      <td>35</td>\n",
              "    </tr>\n",
              "    <tr>\n",
              "      <th>4</th>\n",
              "      <td>36</td>\n",
              "      <td>33</td>\n",
              "    </tr>\n",
              "    <tr>\n",
              "      <th>5</th>\n",
              "      <td>45</td>\n",
              "      <td>54</td>\n",
              "    </tr>\n",
              "  </tbody>\n",
              "</table>\n",
              "</div>\n",
              "      <button class=\"colab-df-convert\" onclick=\"convertToInteractive('df-eb257fd1-74e3-4135-a7cf-ae145ffdbe9b')\"\n",
              "              title=\"Convert this dataframe to an interactive table.\"\n",
              "              style=\"display:none;\">\n",
              "        \n",
              "  <svg xmlns=\"http://www.w3.org/2000/svg\" height=\"24px\"viewBox=\"0 0 24 24\"\n",
              "       width=\"24px\">\n",
              "    <path d=\"M0 0h24v24H0V0z\" fill=\"none\"/>\n",
              "    <path d=\"M18.56 5.44l.94 2.06.94-2.06 2.06-.94-2.06-.94-.94-2.06-.94 2.06-2.06.94zm-11 1L8.5 8.5l.94-2.06 2.06-.94-2.06-.94L8.5 2.5l-.94 2.06-2.06.94zm10 10l.94 2.06.94-2.06 2.06-.94-2.06-.94-.94-2.06-.94 2.06-2.06.94z\"/><path d=\"M17.41 7.96l-1.37-1.37c-.4-.4-.92-.59-1.43-.59-.52 0-1.04.2-1.43.59L10.3 9.45l-7.72 7.72c-.78.78-.78 2.05 0 2.83L4 21.41c.39.39.9.59 1.41.59.51 0 1.02-.2 1.41-.59l7.78-7.78 2.81-2.81c.8-.78.8-2.07 0-2.86zM5.41 20L4 18.59l7.72-7.72 1.47 1.35L5.41 20z\"/>\n",
              "  </svg>\n",
              "      </button>\n",
              "      \n",
              "  <style>\n",
              "    .colab-df-container {\n",
              "      display:flex;\n",
              "      flex-wrap:wrap;\n",
              "      gap: 12px;\n",
              "    }\n",
              "\n",
              "    .colab-df-convert {\n",
              "      background-color: #E8F0FE;\n",
              "      border: none;\n",
              "      border-radius: 50%;\n",
              "      cursor: pointer;\n",
              "      display: none;\n",
              "      fill: #1967D2;\n",
              "      height: 32px;\n",
              "      padding: 0 0 0 0;\n",
              "      width: 32px;\n",
              "    }\n",
              "\n",
              "    .colab-df-convert:hover {\n",
              "      background-color: #E2EBFA;\n",
              "      box-shadow: 0px 1px 2px rgba(60, 64, 67, 0.3), 0px 1px 3px 1px rgba(60, 64, 67, 0.15);\n",
              "      fill: #174EA6;\n",
              "    }\n",
              "\n",
              "    [theme=dark] .colab-df-convert {\n",
              "      background-color: #3B4455;\n",
              "      fill: #D2E3FC;\n",
              "    }\n",
              "\n",
              "    [theme=dark] .colab-df-convert:hover {\n",
              "      background-color: #434B5C;\n",
              "      box-shadow: 0px 1px 3px 1px rgba(0, 0, 0, 0.15);\n",
              "      filter: drop-shadow(0px 1px 2px rgba(0, 0, 0, 0.3));\n",
              "      fill: #FFFFFF;\n",
              "    }\n",
              "  </style>\n",
              "\n",
              "      <script>\n",
              "        const buttonEl =\n",
              "          document.querySelector('#df-eb257fd1-74e3-4135-a7cf-ae145ffdbe9b button.colab-df-convert');\n",
              "        buttonEl.style.display =\n",
              "          google.colab.kernel.accessAllowed ? 'block' : 'none';\n",
              "\n",
              "        async function convertToInteractive(key) {\n",
              "          const element = document.querySelector('#df-eb257fd1-74e3-4135-a7cf-ae145ffdbe9b');\n",
              "          const dataTable =\n",
              "            await google.colab.kernel.invokeFunction('convertToInteractive',\n",
              "                                                     [key], {});\n",
              "          if (!dataTable) return;\n",
              "\n",
              "          const docLinkHtml = 'Like what you see? Visit the ' +\n",
              "            '<a target=\"_blank\" href=https://colab.research.google.com/notebooks/data_table.ipynb>data table notebook</a>'\n",
              "            + ' to learn more about interactive tables.';\n",
              "          element.innerHTML = '';\n",
              "          dataTable['output_type'] = 'display_data';\n",
              "          await google.colab.output.renderOutput(dataTable, element);\n",
              "          const docLink = document.createElement('div');\n",
              "          docLink.innerHTML = docLinkHtml;\n",
              "          element.appendChild(docLink);\n",
              "        }\n",
              "      </script>\n",
              "    </div>\n",
              "  </div>\n",
              "  "
            ]
          },
          "metadata": {},
          "execution_count": 216
        }
      ]
    },
    {
      "cell_type": "code",
      "source": [
        "data = df1.to_numpy()\n",
        "data"
      ],
      "metadata": {
        "colab": {
          "base_uri": "https://localhost:8080/"
        },
        "id": "9erZhTjX8nNG",
        "outputId": "d4f6b324-c6d0-4041-e8f4-12d265378300"
      },
      "execution_count": null,
      "outputs": [
        {
          "output_type": "execute_result",
          "data": {
            "text/plain": [
              "array([[28, 10],\n",
              "       [49, 49],\n",
              "       [48, 35],\n",
              "       [36, 33],\n",
              "       [45, 54]])"
            ]
          },
          "metadata": {},
          "execution_count": 217
        }
      ]
    },
    {
      "cell_type": "code",
      "source": [
        "classes = df[\"Class\"].to_numpy()\n",
        "classes\n"
      ],
      "metadata": {
        "colab": {
          "base_uri": "https://localhost:8080/"
        },
        "id": "3F0L8Nxerx4n",
        "outputId": "496bb18f-492d-43c8-ce39-3332ea031e3f"
      },
      "execution_count": null,
      "outputs": [
        {
          "output_type": "execute_result",
          "data": {
            "text/plain": [
              "array([1, 1, 0, 1, 0])"
            ]
          },
          "metadata": {},
          "execution_count": 218
        }
      ]
    },
    {
      "cell_type": "code",
      "source": [
        "from sklearn import datasets\n",
        "from sklearn import metrics\n",
        "from sklearn.neighbors import KNeighborsClassifier\n",
        "import numpy as np\n",
        "\n",
        "# new_obj = [[39,22]]\n",
        "new_obj = [[33,47]]\n",
        "# dataset\n",
        "X = data\n",
        "target =  classes\n",
        "\n",
        "# fit a k-nearest neighbor model to the data\n",
        "K = 3\n",
        "model = KNeighborsClassifier(n_neighbors = K, p = 1)\n",
        "model.fit(X, target)\n",
        "print(model)\n",
        "\n",
        "# make predictions\n",
        "print( '(39,22) is class'),\n",
        "print( model.predict(new_obj) )\n"
      ],
      "metadata": {
        "colab": {
          "base_uri": "https://localhost:8080/"
        },
        "id": "g55io3_wkiTu",
        "outputId": "58e160d1-c2be-4f92-87da-798d40554c39"
      },
      "execution_count": null,
      "outputs": [
        {
          "output_type": "stream",
          "name": "stdout",
          "text": [
            "KNeighborsClassifier(n_neighbors=3, p=1)\n",
            "(39,22) is class\n",
            "[1]\n"
          ]
        }
      ]
    },
    {
      "cell_type": "code",
      "source": [
        "from sklearn.neighbors import KNeighborsClassifier\n",
        "from sklearn.neighbors import NearestNeighbors\n",
        "import numpy as np"
      ],
      "metadata": {
        "id": "ipXRA6Le51o_"
      },
      "execution_count": null,
      "outputs": []
    },
    {
      "cell_type": "code",
      "source": [
        "K = 5\n",
        "nbrs = NearestNeighbors(n_neighbors=K, p = 2, algorithm='auto').fit(data)\n",
        "distances, indices = nbrs.kneighbors(new_obj)\n",
        "print(distances)\n",
        "print(indices)"
      ],
      "metadata": {
        "colab": {
          "base_uri": "https://localhost:8080/"
        },
        "id": "kUFT3IVoie1h",
        "outputId": "e1f0b149-46f7-45cd-e154-0d87376dee74"
      },
      "execution_count": null,
      "outputs": [
        {
          "output_type": "stream",
          "name": "stdout",
          "text": [
            "[[13.89244399 14.31782106 16.1245155  19.20937271 37.33630941]]\n",
            "[[4 3 1 2 0]]\n"
          ]
        }
      ]
    },
    {
      "cell_type": "code",
      "source": [
        "index= np.array([4, 3, 1, 2, 0])\n",
        "print(index)\n",
        "w = []\n",
        "for i in range(len(distances[0])):\n",
        "  w.append(1/distances[0,i]**2)\n",
        "w = np.array(w)\n",
        "print(w)"
      ],
      "metadata": {
        "colab": {
          "base_uri": "https://localhost:8080/"
        },
        "id": "ro5t9X0SuUrX",
        "outputId": "87657a02-2b38-42a8-953f-2abbeeaad365"
      },
      "execution_count": null,
      "outputs": [
        {
          "output_type": "stream",
          "name": "stdout",
          "text": [
            "[4 3 1 2 0]\n",
            "[0.00518135 0.00487805 0.00384615 0.00271003 0.00071736]\n"
          ]
        }
      ]
    },
    {
      "cell_type": "markdown",
      "source": [
        "Сортировка по индексу"
      ],
      "metadata": {
        "id": "Asc4H-IbyJ7c"
      }
    },
    {
      "cell_type": "code",
      "source": [
        "arr1inds = index.argsort()\n",
        "sorted_index = index[arr1inds[::1]]\n",
        "sorted_w = w[arr1inds[::1]]\n",
        "print(classes)\n",
        "print(sorted_index)\n",
        "print(sorted_w)\n",
        "\n",
        "sum0 = 0 \n",
        "sum1 = 0\n",
        "for i in range(len(classes)):\n",
        "  if classes[i] == 0:\n",
        "    sum0 += sorted_w[i]\n",
        "  if classes[i] == 1:\n",
        "    sum1 += sorted_w[i]\n",
        "print(sum0)\n",
        "print(sum1)\n",
        "    "
      ],
      "metadata": {
        "colab": {
          "base_uri": "https://localhost:8080/"
        },
        "id": "bBMSzFTIwEmJ",
        "outputId": "d659768b-d3ec-4ce5-9a7d-8185ce713bca"
      },
      "execution_count": null,
      "outputs": [
        {
          "output_type": "stream",
          "name": "stdout",
          "text": [
            "[1 1 0 1 0]\n",
            "[0 1 2 3 4]\n",
            "[0.00071736 0.00384615 0.00271003 0.00487805 0.00518135]\n",
            "0.007891374250530072\n",
            "0.00944156274141927\n"
          ]
        }
      ]
    },
    {
      "cell_type": "markdown",
      "source": [
        "Ближайший объект к точке и его ID"
      ],
      "metadata": {
        "id": "VGBJS0fcojfp"
      }
    },
    {
      "cell_type": "code",
      "source": [],
      "metadata": {
        "id": "RBtkp8kIwM4b"
      },
      "execution_count": null,
      "outputs": []
    },
    {
      "cell_type": "markdown",
      "source": [
        "Евклид:"
      ],
      "metadata": {
        "id": "II2R1tP_pQgP"
      }
    },
    {
      "cell_type": "code",
      "source": [
        "neigh = NearestNeighbors(n_neighbors=K, p=2)\n",
        "neigh.fit(data)\n",
        "print(neigh.kneighbors([[33,47]]))"
      ],
      "metadata": {
        "colab": {
          "base_uri": "https://localhost:8080/"
        },
        "id": "pNLblbtx51r0",
        "outputId": "c122af9b-5ccf-4a30-e823-5315ab6307d2"
      },
      "execution_count": null,
      "outputs": [
        {
          "output_type": "stream",
          "name": "stdout",
          "text": [
            "(array([[13.89244399, 14.31782106, 16.1245155 , 19.20937271, 37.33630941]]), array([[4, 3, 1, 2, 0]]))\n"
          ]
        }
      ]
    },
    {
      "cell_type": "markdown",
      "source": [
        "Mанхеттен"
      ],
      "metadata": {
        "id": "fRwZRGgRpThF"
      }
    },
    {
      "cell_type": "code",
      "source": [
        "neigh = NearestNeighbors(n_neighbors=5, p=1)\n",
        "neigh.fit(data)\n",
        "print(neigh.kneighbors([[33,47]]))"
      ],
      "metadata": {
        "colab": {
          "base_uri": "https://localhost:8080/"
        },
        "id": "-AGhsLtQpLic",
        "outputId": "7bba3bde-34d3-42fe-b016-d9cd2de850c3"
      },
      "execution_count": null,
      "outputs": [
        {
          "output_type": "stream",
          "name": "stdout",
          "text": [
            "(array([[17., 18., 19., 27., 42.]]), array([[3, 1, 4, 2, 0]]))\n"
          ]
        }
      ]
    },
    {
      "cell_type": "markdown",
      "source": [
        "#Байес наивный \n",
        "#Задание 5.5"
      ],
      "metadata": {
        "id": "fmyBZKnWApBA"
      }
    },
    {
      "cell_type": "code",
      "source": [
        "# приз|спам\n",
        "P1 = 6/24\n",
        "# спам\n",
        "P2 = 24/70\n",
        "# приз\n",
        "P3 = 11/70\n",
        "# спам | приз\n",
        "P = P1 * P2 / P3\n",
        "P"
      ],
      "metadata": {
        "colab": {
          "base_uri": "https://localhost:8080/"
        },
        "id": "13atJHaqAsFC",
        "outputId": "660c0ee1-b880-4bb7-97dc-8482c5fb94cd"
      },
      "execution_count": null,
      "outputs": [
        {
          "output_type": "execute_result",
          "data": {
            "text/plain": [
              "0.5454545454545455"
            ]
          },
          "metadata": {},
          "execution_count": 226
        }
      ]
    },
    {
      "cell_type": "code",
      "source": [
        "lnPspam = np.log(11/(11+26))\n"
      ],
      "metadata": {
        "id": "9rJEBOlWGCfN"
      },
      "execution_count": null,
      "outputs": []
    },
    {
      "cell_type": "markdown",
      "source": [
        "Spam"
      ],
      "metadata": {
        "id": "8vJ1e3ZRK5zU"
      }
    },
    {
      "cell_type": "code",
      "source": [
        "\n",
        "V = 8\n",
        "r = 1\n",
        "spam = 69\n",
        "# win|spam\n",
        "Pwinspam = (1+6)/ (V+r+spam)\n",
        "print(Pwinspam)\n",
        "Pdollarsspam = (1+0)/ (V+r+spam)\n",
        "Pmillionspam = (1+10)/(V+r+spam)"
      ],
      "metadata": {
        "colab": {
          "base_uri": "https://localhost:8080/"
        },
        "id": "BEgM-N_yIhi2",
        "outputId": "2c301575-08fc-4e16-d613-8967bda8fefb"
      },
      "execution_count": null,
      "outputs": [
        {
          "output_type": "stream",
          "name": "stdout",
          "text": [
            "0.08974358974358974\n"
          ]
        }
      ]
    },
    {
      "cell_type": "code",
      "source": [
        "Fspam = lnPspam + np.log(Pwinspam) + np.log(Pdollarsspam) + np.log(Pmillionspam)\n",
        "print(Fspam)\n"
      ],
      "metadata": {
        "colab": {
          "base_uri": "https://localhost:8080/"
        },
        "id": "XWCm7z5IJ5OA",
        "outputId": "aefbc242-f6cf-4c0c-b89f-cf01cc7d81f2"
      },
      "execution_count": null,
      "outputs": [
        {
          "output_type": "stream",
          "name": "stdout",
          "text": [
            "-9.939343698060945\n"
          ]
        }
      ]
    },
    {
      "cell_type": "markdown",
      "source": [
        "Ne Spam"
      ],
      "metadata": {
        "id": "CTNqyynkK-4f"
      }
    },
    {
      "cell_type": "code",
      "source": [
        "Pnespam = 26/(11+26)\n",
        "lnPnespam = np.log(Pnespam)\n",
        "nespam = 48\n",
        "# win|nespam\n",
        "Pwinnespam = (1+3)/ (V+r+nespam)\n",
        "print(Pwinspam)\n",
        "Pdollarsnespam = (1+0)/ (V+r+nespam)\n",
        "Pmillionnespam = (1+5)/(V+r+nespam)"
      ],
      "metadata": {
        "colab": {
          "base_uri": "https://localhost:8080/"
        },
        "id": "N4CA6H3OJnsP",
        "outputId": "a6099118-b793-4475-e0bf-80821363b680"
      },
      "execution_count": null,
      "outputs": [
        {
          "output_type": "stream",
          "name": "stdout",
          "text": [
            "0.08974358974358974\n"
          ]
        }
      ]
    },
    {
      "cell_type": "code",
      "source": [
        "Fnespam = lnPnespam + np.log(Pwinnespam) + np.log(Pdollarsnespam) + np.log(Pmillionnespam)\n",
        "print(Fnespam)\n"
      ],
      "metadata": {
        "colab": {
          "base_uri": "https://localhost:8080/"
        },
        "id": "OcANP8VoLjgW",
        "outputId": "fea658ed-3e72-427a-9cf7-b7c92304cd3d"
      },
      "execution_count": null,
      "outputs": [
        {
          "output_type": "stream",
          "name": "stdout",
          "text": [
            "-9.303921347778447\n"
          ]
        }
      ]
    },
    {
      "cell_type": "code",
      "source": [
        "# P class|pismo\n",
        "Pclasspismo = 1/ (1+ np.exp(Fnespam - Fspam))\n",
        "Pclasspismo"
      ],
      "metadata": {
        "colab": {
          "base_uri": "https://localhost:8080/"
        },
        "id": "BqkRDfYPMtIe",
        "outputId": "bc80e922-ae75-407e-bc19-0857c6cd2724"
      },
      "execution_count": null,
      "outputs": [
        {
          "output_type": "execute_result",
          "data": {
            "text/plain": [
              "0.3462820551258368"
            ]
          },
          "metadata": {},
          "execution_count": 232
        }
      ]
    },
    {
      "cell_type": "markdown",
      "source": [
        "#Байес Task "
      ],
      "metadata": {
        "id": "ZbsL4-JMNGmM"
      }
    },
    {
      "cell_type": "code",
      "source": [
        "P_spam = 14/(14+12)\n",
        "V = 10\n",
        "r = 2\n",
        "spam = 70\n",
        "# win|spam\n",
        "P_gift_spam = (1+1)/ (V+r+spam)\n",
        "P_purchase_spam = (1+14)/ (V+r+spam)\n",
        "P_offer_spam = (1+0)/(V+r+spam)\n",
        "P_access_spam = (1+5)/(V+r+spam)\n",
        "P_money_spam = (1+0)/(V+r+spam)\n",
        "P_million_spam = (1+2)/(V+r+spam)\n",
        "P_investment_spam = (1+0)/(V+r+spam)\n"
      ],
      "metadata": {
        "id": "abvUbAu7NX2s"
      },
      "execution_count": null,
      "outputs": []
    },
    {
      "cell_type": "code",
      "source": [
        "Fspam = np.log(P_spam) + np.log(P_gift_spam)\\\n",
        "+np.log(P_purchase_spam) + np.log(P_offer_spam)\\\n",
        "+np.log(P_access_spam) + np.log(P_money_spam)\\\n",
        "+np.log(P_million_spam) + np.log(P_investment_spam)\n",
        "\n",
        "        \n",
        "print(Fspam)\n"
      ],
      "metadata": {
        "colab": {
          "base_uri": "https://localhost:8080/"
        },
        "outputId": "663cbe9b-0031-4a45-dba9-a741eb413681",
        "id": "-1t6h6BpNX2w"
      },
      "execution_count": null,
      "outputs": [
        {
          "output_type": "stream",
          "name": "stdout",
          "text": [
            "-25.174504799697676\n"
          ]
        }
      ]
    },
    {
      "cell_type": "code",
      "source": [
        "P_nespam = 12/(14+12)\n",
        "V = 10\n",
        "r = 2\n",
        "spam = 46\n",
        "# |nespam\n",
        "P_gift_nespam = (1+4)/ (V+r+spam)\n",
        "P_purchase_nespam = (1+22)/ (V+r+spam)\n",
        "P_offer_nespam = (1+0)/(V+r+spam)\n",
        "P_access_nespam = (1+4)/(V+r+spam)\n",
        "P_money_nespam = (1+1)/(V+r+spam)\n",
        "P_million_nespam = (1+1)/(V+r+spam)\n",
        "P_investment_nespam = (1+0)/(V+r+spam)\n"
      ],
      "metadata": {
        "id": "GrtoLmcnP536"
      },
      "execution_count": null,
      "outputs": []
    },
    {
      "cell_type": "code",
      "source": [
        "Fnespam = np.log(P_nespam) + np.log(P_gift_nespam)\\\n",
        "+np.log(P_purchase_nespam) + np.log(P_offer_nespam)\\\n",
        "+np.log(P_access_nespam) + np.log(P_money_nespam)\\\n",
        "+np.log(P_million_nespam) + np.log(P_investment_nespam)\n",
        "\n",
        "        \n",
        "print(Fnespam)\n"
      ],
      "metadata": {
        "colab": {
          "base_uri": "https://localhost:8080/"
        },
        "outputId": "0ab0d838-9c4f-4f38-e6f4-72b0772f2586",
        "id": "kgKQsbjYP538"
      },
      "execution_count": null,
      "outputs": [
        {
          "output_type": "stream",
          "name": "stdout",
          "text": [
            "-21.455626560141177\n"
          ]
        }
      ]
    },
    {
      "cell_type": "code",
      "source": [
        "# P class|pismo\n",
        "Pclasspismo = 1/ (1+ np.exp(Fnespam - Fspam))\n",
        "Pclasspismo"
      ],
      "metadata": {
        "colab": {
          "base_uri": "https://localhost:8080/"
        },
        "id": "ZE7_rx_QQoMu",
        "outputId": "b2570b62-f88b-49fe-b75a-3074192d3956"
      },
      "execution_count": null,
      "outputs": [
        {
          "output_type": "execute_result",
          "data": {
            "text/plain": [
              "0.023686505520132066"
            ]
          },
          "metadata": {},
          "execution_count": 237
        }
      ]
    },
    {
      "cell_type": "markdown",
      "source": [
        "##Unit 6 ЛогРегрессия"
      ],
      "metadata": {
        "id": "bUpC9GLIoz9U"
      }
    },
    {
      "cell_type": "code",
      "source": [
        "odds = 0.75/(1 - 0.75)\n",
        "odds"
      ],
      "metadata": {
        "colab": {
          "base_uri": "https://localhost:8080/"
        },
        "id": "IGPcWk7Io6P-",
        "outputId": "8988cc7d-d1cf-4d65-f633-322a4504bec1"
      },
      "execution_count": null,
      "outputs": [
        {
          "output_type": "execute_result",
          "data": {
            "text/plain": [
              "3.0"
            ]
          },
          "metadata": {},
          "execution_count": 239
        }
      ]
    },
    {
      "cell_type": "code",
      "source": [
        "t0 = -0.046\n",
        "t1 = 0.541\n",
        "t2 = -0.014\n",
        "t3 = -0.132\n",
        "x1 = 4\n",
        "x2 = 40\n",
        "x3 = 8\n",
        "P = 1/(1+np.exp(-(t0 + t1 *x1 + t2*x2 + t3*x3)))\n",
        "P"
      ],
      "metadata": {
        "colab": {
          "base_uri": "https://localhost:8080/"
        },
        "id": "3Cc8FvFwq1n6",
        "outputId": "9b98130f-19fe-4aa2-d2bb-7d9ff0f24a83"
      },
      "execution_count": null,
      "outputs": [
        {
          "output_type": "execute_result",
          "data": {
            "text/plain": [
              "0.6229292233842624"
            ]
          },
          "metadata": {},
          "execution_count": 242
        }
      ]
    },
    {
      "cell_type": "code",
      "source": [
        "t0 = -2.992\n",
        "t1 = 0.240\n",
        "t2 = 1.102\n",
        "x1 = 0\n",
        "x2 = 0\n",
        "\n",
        "P = 1/(1+np.exp(-(t0 + t1 *x1 + t2*x2 )))\n",
        "P"
      ],
      "metadata": {
        "colab": {
          "base_uri": "https://localhost:8080/"
        },
        "id": "wcGO8IX4zrsr",
        "outputId": "24951e58-fe80-4654-9440-7898619ec5d7"
      },
      "execution_count": null,
      "outputs": [
        {
          "output_type": "execute_result",
          "data": {
            "text/plain": [
              "0.047788597799115824"
            ]
          },
          "metadata": {},
          "execution_count": 244
        }
      ]
    },
    {
      "cell_type": "markdown",
      "source": [
        "TPR"
      ],
      "metadata": {
        "id": "QQr68BH94xAr"
      }
    },
    {
      "cell_type": "code",
      "source": [
        "TP = 5\n",
        "FN = 2\n",
        "TPR = TP/(TP+FN)\n",
        "TPR"
      ],
      "metadata": {
        "colab": {
          "base_uri": "https://localhost:8080/"
        },
        "id": "2kyVFQj441TN",
        "outputId": "fcf3bc92-e48e-433d-8807-d59dd279d8a4"
      },
      "execution_count": null,
      "outputs": [
        {
          "output_type": "execute_result",
          "data": {
            "text/plain": [
              "0.7142857142857143"
            ]
          },
          "metadata": {},
          "execution_count": 245
        }
      ]
    },
    {
      "cell_type": "markdown",
      "source": [
        "FPR"
      ],
      "metadata": {
        "id": "Y77thXim40HX"
      }
    },
    {
      "cell_type": "code",
      "source": [
        "FP = 2\n",
        "TN = 3\n",
        "FPR = FP/(FP+TN)\n",
        "FPR"
      ],
      "metadata": {
        "colab": {
          "base_uri": "https://localhost:8080/"
        },
        "id": "T8oqGs0c5CVA",
        "outputId": "a5feaf9f-7b7f-4949-f3b4-6b3e742dabf3"
      },
      "execution_count": null,
      "outputs": [
        {
          "output_type": "execute_result",
          "data": {
            "text/plain": [
              "0.4"
            ]
          },
          "metadata": {},
          "execution_count": 246
        }
      ]
    }
  ]
}