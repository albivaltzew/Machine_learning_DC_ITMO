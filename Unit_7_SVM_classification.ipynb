{
  "nbformat": 4,
  "nbformat_minor": 0,
  "metadata": {
    "colab": {
      "provenance": [],
      "authorship_tag": "ABX9TyN1S8QIVNRkki66piNxOHHp",
      "include_colab_link": true
    },
    "kernelspec": {
      "name": "python3",
      "display_name": "Python 3"
    },
    "language_info": {
      "name": "python"
    }
  },
  "cells": [
    {
      "cell_type": "markdown",
      "metadata": {
        "id": "view-in-github",
        "colab_type": "text"
      },
      "source": [
        "<a href=\"https://colab.research.google.com/github/albivaltzew/Machine_learning_DC_ITMO/blob/main/Unit_7_SVM_classification.ipynb\" target=\"_parent\"><img src=\"https://colab.research.google.com/assets/colab-badge.svg\" alt=\"Open In Colab\"/></a>"
      ]
    },
    {
      "cell_type": "markdown",
      "source": [
        "#Опросы"
      ],
      "metadata": {
        "id": "JEXW3lXZJmYF"
      }
    },
    {
      "cell_type": "code",
      "execution_count": null,
      "metadata": {
        "colab": {
          "base_uri": "https://localhost:8080/"
        },
        "id": "gO0HtpbBxbdy",
        "outputId": "d661da4d-5db5-4bd7-b4d7-0cfd252fa935"
      },
      "outputs": [
        {
          "output_type": "execute_result",
          "data": {
            "text/plain": [
              "1.4"
            ]
          },
          "metadata": {},
          "execution_count": 2
        }
      ],
      "source": [
        "import numpy as np\n",
        "t0 = 3\n",
        "t1 = -3\n",
        "t2 = -4\n",
        "d = (np.abs(t0+t1*2+t2*1))/np.sqrt(t1**2+t2**2 )\n",
        "d"
      ]
    },
    {
      "cell_type": "code",
      "source": [
        "p = 2*(-1)+ 3*3 + 4*5\n",
        "p"
      ],
      "metadata": {
        "colab": {
          "base_uri": "https://localhost:8080/"
        },
        "id": "h9wNlI2_5-US",
        "outputId": "801f143f-b414-4cf2-b653-2e54d502517a"
      },
      "execution_count": null,
      "outputs": [
        {
          "output_type": "execute_result",
          "data": {
            "text/plain": [
              "27"
            ]
          },
          "metadata": {},
          "execution_count": 3
        }
      ]
    },
    {
      "cell_type": "code",
      "source": [
        "x1 = 1\n",
        "x2 = -2\n",
        "x3 = 3\n",
        "ans = 5+ 3*x1 - 4*x2 + 2*x3\n",
        "ans"
      ],
      "metadata": {
        "colab": {
          "base_uri": "https://localhost:8080/"
        },
        "id": "eeGGF3NV6-qQ",
        "outputId": "d37c2e2d-1d50-46ae-c987-2ce80353dae4"
      },
      "execution_count": null,
      "outputs": [
        {
          "output_type": "execute_result",
          "data": {
            "text/plain": [
              "22"
            ]
          },
          "metadata": {},
          "execution_count": 4
        }
      ]
    },
    {
      "cell_type": "markdown",
      "source": [
        "#Задание классификация котов"
      ],
      "metadata": {
        "id": "kuRl58dDJr9c"
      }
    },
    {
      "cell_type": "code",
      "source": [
        "import cv2\n",
        "import pandas as pd\n",
        "from imutils import paths\n",
        "\n"
      ],
      "metadata": {
        "id": "b19v-HFDJlnt"
      },
      "execution_count": null,
      "outputs": []
    },
    {
      "cell_type": "code",
      "source": [
        "def extract_histogram(image, bins=(8, 8, 8)):\n",
        "    hist = cv2.calcHist([image], [0, 1, 2], None, bins, [0, 256, 0, 256, 0, 256])\n",
        "    cv2.normalize(hist, hist)\n",
        "    return hist.flatten()"
      ],
      "metadata": {
        "id": "rXBlneAnJ6gj"
      },
      "execution_count": null,
      "outputs": []
    },
    {
      "cell_type": "code",
      "source": [
        "# Load the Drive helper and mount\n",
        "from google.colab import drive\n",
        "drive.mount('/content/drive')"
      ],
      "metadata": {
        "colab": {
          "base_uri": "https://localhost:8080/"
        },
        "id": "K6oSLZocLZmh",
        "outputId": "7d485902-1b3d-40ec-a5f8-62a14be6ad91"
      },
      "execution_count": null,
      "outputs": [
        {
          "output_type": "stream",
          "name": "stdout",
          "text": [
            "Drive already mounted at /content/drive; to attempt to forcibly remount, call drive.mount(\"/content/drive\", force_remount=True).\n"
          ]
        }
      ]
    },
    {
      "cell_type": "code",
      "source": [
        "images_train = sorted(list(paths.list_images('/content/drive/MyDrive/dc_ML/train')))\n",
        "# imagePath"
      ],
      "metadata": {
        "id": "VdDNdch3OtbS"
      },
      "execution_count": null,
      "outputs": []
    },
    {
      "cell_type": "code",
      "source": [
        "\n",
        "result = []\n",
        "for image in images_train:\n",
        "  result.append(extract_histogram(cv2.imread(image)))\n",
        "result = np.array(result)\n",
        "X = pd.DataFrame(result)\n",
        "X.head()\n",
        "# X"
      ],
      "metadata": {
        "colab": {
          "base_uri": "https://localhost:8080/",
          "height": 297
        },
        "id": "y6CPWk_bSK4A",
        "outputId": "d96cbb97-9a0d-4621-eeae-9788c13308b0"
      },
      "execution_count": null,
      "outputs": [
        {
          "output_type": "execute_result",
          "data": {
            "text/plain": [
              "        0         1         2         3         4    5    6    7         8    \\\n",
              "0  0.242645  0.073122  0.000232  0.000000  0.000000  0.0  0.0  0.0  0.000000   \n",
              "1  0.418818  0.126781  0.000085  0.000000  0.000000  0.0  0.0  0.0  0.005085   \n",
              "2  0.356737  0.184168  0.020616  0.001619  0.000717  0.0  0.0  0.0  0.000041   \n",
              "3  0.001266  0.019995  0.011941  0.001583  0.000158  0.0  0.0  0.0  0.000000   \n",
              "4  0.000000  0.000105  0.000000  0.000000  0.000000  0.0  0.0  0.0  0.000000   \n",
              "\n",
              "        9    ...      502       503  504       505     506      507       508  \\\n",
              "0  0.087363  ...  0.00000  0.000000  0.0  0.000000  0.0000  0.00000  0.000000   \n",
              "1  0.076441  ...  0.00000  0.000000  0.0  0.000000  0.0000  0.00000  0.000000   \n",
              "2  0.027440  ...  0.00002  0.000000  0.0  0.000000  0.0000  0.00000  0.000000   \n",
              "3  0.002145  ...  0.01595  0.002233  0.0  0.000000  0.0000  0.00000  0.000000   \n",
              "4  0.000366  ...  0.00000  0.000000  0.0  0.002719  0.7748  0.34338  0.038583   \n",
              "\n",
              "        509       510       511  \n",
              "0  0.000000  0.000000  0.000000  \n",
              "1  0.000000  0.000042  0.000000  \n",
              "2  0.000000  0.000000  0.007726  \n",
              "3  0.000000  0.023354  0.497077  \n",
              "4  0.114442  0.126833  0.008469  \n",
              "\n",
              "[5 rows x 512 columns]"
            ],
            "text/html": [
              "\n",
              "  <div id=\"df-80f7d9ce-a1b0-4ab5-a4b1-6cee88e4769d\">\n",
              "    <div class=\"colab-df-container\">\n",
              "      <div>\n",
              "<style scoped>\n",
              "    .dataframe tbody tr th:only-of-type {\n",
              "        vertical-align: middle;\n",
              "    }\n",
              "\n",
              "    .dataframe tbody tr th {\n",
              "        vertical-align: top;\n",
              "    }\n",
              "\n",
              "    .dataframe thead th {\n",
              "        text-align: right;\n",
              "    }\n",
              "</style>\n",
              "<table border=\"1\" class=\"dataframe\">\n",
              "  <thead>\n",
              "    <tr style=\"text-align: right;\">\n",
              "      <th></th>\n",
              "      <th>0</th>\n",
              "      <th>1</th>\n",
              "      <th>2</th>\n",
              "      <th>3</th>\n",
              "      <th>4</th>\n",
              "      <th>5</th>\n",
              "      <th>6</th>\n",
              "      <th>7</th>\n",
              "      <th>8</th>\n",
              "      <th>9</th>\n",
              "      <th>...</th>\n",
              "      <th>502</th>\n",
              "      <th>503</th>\n",
              "      <th>504</th>\n",
              "      <th>505</th>\n",
              "      <th>506</th>\n",
              "      <th>507</th>\n",
              "      <th>508</th>\n",
              "      <th>509</th>\n",
              "      <th>510</th>\n",
              "      <th>511</th>\n",
              "    </tr>\n",
              "  </thead>\n",
              "  <tbody>\n",
              "    <tr>\n",
              "      <th>0</th>\n",
              "      <td>0.242645</td>\n",
              "      <td>0.073122</td>\n",
              "      <td>0.000232</td>\n",
              "      <td>0.000000</td>\n",
              "      <td>0.000000</td>\n",
              "      <td>0.0</td>\n",
              "      <td>0.0</td>\n",
              "      <td>0.0</td>\n",
              "      <td>0.000000</td>\n",
              "      <td>0.087363</td>\n",
              "      <td>...</td>\n",
              "      <td>0.00000</td>\n",
              "      <td>0.000000</td>\n",
              "      <td>0.0</td>\n",
              "      <td>0.000000</td>\n",
              "      <td>0.0000</td>\n",
              "      <td>0.00000</td>\n",
              "      <td>0.000000</td>\n",
              "      <td>0.000000</td>\n",
              "      <td>0.000000</td>\n",
              "      <td>0.000000</td>\n",
              "    </tr>\n",
              "    <tr>\n",
              "      <th>1</th>\n",
              "      <td>0.418818</td>\n",
              "      <td>0.126781</td>\n",
              "      <td>0.000085</td>\n",
              "      <td>0.000000</td>\n",
              "      <td>0.000000</td>\n",
              "      <td>0.0</td>\n",
              "      <td>0.0</td>\n",
              "      <td>0.0</td>\n",
              "      <td>0.005085</td>\n",
              "      <td>0.076441</td>\n",
              "      <td>...</td>\n",
              "      <td>0.00000</td>\n",
              "      <td>0.000000</td>\n",
              "      <td>0.0</td>\n",
              "      <td>0.000000</td>\n",
              "      <td>0.0000</td>\n",
              "      <td>0.00000</td>\n",
              "      <td>0.000000</td>\n",
              "      <td>0.000000</td>\n",
              "      <td>0.000042</td>\n",
              "      <td>0.000000</td>\n",
              "    </tr>\n",
              "    <tr>\n",
              "      <th>2</th>\n",
              "      <td>0.356737</td>\n",
              "      <td>0.184168</td>\n",
              "      <td>0.020616</td>\n",
              "      <td>0.001619</td>\n",
              "      <td>0.000717</td>\n",
              "      <td>0.0</td>\n",
              "      <td>0.0</td>\n",
              "      <td>0.0</td>\n",
              "      <td>0.000041</td>\n",
              "      <td>0.027440</td>\n",
              "      <td>...</td>\n",
              "      <td>0.00002</td>\n",
              "      <td>0.000000</td>\n",
              "      <td>0.0</td>\n",
              "      <td>0.000000</td>\n",
              "      <td>0.0000</td>\n",
              "      <td>0.00000</td>\n",
              "      <td>0.000000</td>\n",
              "      <td>0.000000</td>\n",
              "      <td>0.000000</td>\n",
              "      <td>0.007726</td>\n",
              "    </tr>\n",
              "    <tr>\n",
              "      <th>3</th>\n",
              "      <td>0.001266</td>\n",
              "      <td>0.019995</td>\n",
              "      <td>0.011941</td>\n",
              "      <td>0.001583</td>\n",
              "      <td>0.000158</td>\n",
              "      <td>0.0</td>\n",
              "      <td>0.0</td>\n",
              "      <td>0.0</td>\n",
              "      <td>0.000000</td>\n",
              "      <td>0.002145</td>\n",
              "      <td>...</td>\n",
              "      <td>0.01595</td>\n",
              "      <td>0.002233</td>\n",
              "      <td>0.0</td>\n",
              "      <td>0.000000</td>\n",
              "      <td>0.0000</td>\n",
              "      <td>0.00000</td>\n",
              "      <td>0.000000</td>\n",
              "      <td>0.000000</td>\n",
              "      <td>0.023354</td>\n",
              "      <td>0.497077</td>\n",
              "    </tr>\n",
              "    <tr>\n",
              "      <th>4</th>\n",
              "      <td>0.000000</td>\n",
              "      <td>0.000105</td>\n",
              "      <td>0.000000</td>\n",
              "      <td>0.000000</td>\n",
              "      <td>0.000000</td>\n",
              "      <td>0.0</td>\n",
              "      <td>0.0</td>\n",
              "      <td>0.0</td>\n",
              "      <td>0.000000</td>\n",
              "      <td>0.000366</td>\n",
              "      <td>...</td>\n",
              "      <td>0.00000</td>\n",
              "      <td>0.000000</td>\n",
              "      <td>0.0</td>\n",
              "      <td>0.002719</td>\n",
              "      <td>0.7748</td>\n",
              "      <td>0.34338</td>\n",
              "      <td>0.038583</td>\n",
              "      <td>0.114442</td>\n",
              "      <td>0.126833</td>\n",
              "      <td>0.008469</td>\n",
              "    </tr>\n",
              "  </tbody>\n",
              "</table>\n",
              "<p>5 rows × 512 columns</p>\n",
              "</div>\n",
              "      <button class=\"colab-df-convert\" onclick=\"convertToInteractive('df-80f7d9ce-a1b0-4ab5-a4b1-6cee88e4769d')\"\n",
              "              title=\"Convert this dataframe to an interactive table.\"\n",
              "              style=\"display:none;\">\n",
              "        \n",
              "  <svg xmlns=\"http://www.w3.org/2000/svg\" height=\"24px\"viewBox=\"0 0 24 24\"\n",
              "       width=\"24px\">\n",
              "    <path d=\"M0 0h24v24H0V0z\" fill=\"none\"/>\n",
              "    <path d=\"M18.56 5.44l.94 2.06.94-2.06 2.06-.94-2.06-.94-.94-2.06-.94 2.06-2.06.94zm-11 1L8.5 8.5l.94-2.06 2.06-.94-2.06-.94L8.5 2.5l-.94 2.06-2.06.94zm10 10l.94 2.06.94-2.06 2.06-.94-2.06-.94-.94-2.06-.94 2.06-2.06.94z\"/><path d=\"M17.41 7.96l-1.37-1.37c-.4-.4-.92-.59-1.43-.59-.52 0-1.04.2-1.43.59L10.3 9.45l-7.72 7.72c-.78.78-.78 2.05 0 2.83L4 21.41c.39.39.9.59 1.41.59.51 0 1.02-.2 1.41-.59l7.78-7.78 2.81-2.81c.8-.78.8-2.07 0-2.86zM5.41 20L4 18.59l7.72-7.72 1.47 1.35L5.41 20z\"/>\n",
              "  </svg>\n",
              "      </button>\n",
              "      \n",
              "  <style>\n",
              "    .colab-df-container {\n",
              "      display:flex;\n",
              "      flex-wrap:wrap;\n",
              "      gap: 12px;\n",
              "    }\n",
              "\n",
              "    .colab-df-convert {\n",
              "      background-color: #E8F0FE;\n",
              "      border: none;\n",
              "      border-radius: 50%;\n",
              "      cursor: pointer;\n",
              "      display: none;\n",
              "      fill: #1967D2;\n",
              "      height: 32px;\n",
              "      padding: 0 0 0 0;\n",
              "      width: 32px;\n",
              "    }\n",
              "\n",
              "    .colab-df-convert:hover {\n",
              "      background-color: #E2EBFA;\n",
              "      box-shadow: 0px 1px 2px rgba(60, 64, 67, 0.3), 0px 1px 3px 1px rgba(60, 64, 67, 0.15);\n",
              "      fill: #174EA6;\n",
              "    }\n",
              "\n",
              "    [theme=dark] .colab-df-convert {\n",
              "      background-color: #3B4455;\n",
              "      fill: #D2E3FC;\n",
              "    }\n",
              "\n",
              "    [theme=dark] .colab-df-convert:hover {\n",
              "      background-color: #434B5C;\n",
              "      box-shadow: 0px 1px 3px 1px rgba(0, 0, 0, 0.15);\n",
              "      filter: drop-shadow(0px 1px 2px rgba(0, 0, 0, 0.3));\n",
              "      fill: #FFFFFF;\n",
              "    }\n",
              "  </style>\n",
              "\n",
              "      <script>\n",
              "        const buttonEl =\n",
              "          document.querySelector('#df-80f7d9ce-a1b0-4ab5-a4b1-6cee88e4769d button.colab-df-convert');\n",
              "        buttonEl.style.display =\n",
              "          google.colab.kernel.accessAllowed ? 'block' : 'none';\n",
              "\n",
              "        async function convertToInteractive(key) {\n",
              "          const element = document.querySelector('#df-80f7d9ce-a1b0-4ab5-a4b1-6cee88e4769d');\n",
              "          const dataTable =\n",
              "            await google.colab.kernel.invokeFunction('convertToInteractive',\n",
              "                                                     [key], {});\n",
              "          if (!dataTable) return;\n",
              "\n",
              "          const docLinkHtml = 'Like what you see? Visit the ' +\n",
              "            '<a target=\"_blank\" href=https://colab.research.google.com/notebooks/data_table.ipynb>data table notebook</a>'\n",
              "            + ' to learn more about interactive tables.';\n",
              "          element.innerHTML = '';\n",
              "          dataTable['output_type'] = 'display_data';\n",
              "          await google.colab.output.renderOutput(dataTable, element);\n",
              "          const docLink = document.createElement('div');\n",
              "          docLink.innerHTML = docLinkHtml;\n",
              "          element.appendChild(docLink);\n",
              "        }\n",
              "      </script>\n",
              "    </div>\n",
              "  </div>\n",
              "  "
            ]
          },
          "metadata": {},
          "execution_count": 78
        }
      ]
    },
    {
      "cell_type": "code",
      "source": [
        "Y = [0 if 'cat' in image else 1 for image in images_train]"
      ],
      "metadata": {
        "id": "MCDKVBuJMsdn"
      },
      "execution_count": null,
      "outputs": []
    },
    {
      "cell_type": "code",
      "source": [
        "from sklearn.svm import LinearSVC\n",
        "from sklearn.model_selection import train_test_split\n",
        "from sklearn.metrics import confusion_matrix\n",
        "from sklearn.metrics import classification_report"
      ],
      "metadata": {
        "id": "-fUFqZlwR_q0"
      },
      "execution_count": null,
      "outputs": []
    },
    {
      "cell_type": "code",
      "source": [
        "xtrain, xtest, ytrain, ytest = train_test_split(X, Y, test_size=0.25, random_state=13)"
      ],
      "metadata": {
        "id": "Kl5Jzu4RQ3-N"
      },
      "execution_count": null,
      "outputs": []
    },
    {
      "cell_type": "code",
      "source": [
        "lsvc = LinearSVC(C=1.28, random_state=13)\n",
        "print(lsvc)"
      ],
      "metadata": {
        "colab": {
          "base_uri": "https://localhost:8080/"
        },
        "id": "SVsDtSdCWInQ",
        "outputId": "b2e8a3f7-9779-4ed9-e84a-6c3c5c743d84"
      },
      "execution_count": null,
      "outputs": [
        {
          "output_type": "stream",
          "name": "stdout",
          "text": [
            "LinearSVC(C=1.28, random_state=13)\n"
          ]
        }
      ]
    },
    {
      "cell_type": "code",
      "source": [
        "lsvc.fit(xtrain, ytrain)\n",
        "# score = lsvc.score(xtrain, ytrain)\n",
        "# print(\"Score: \", score)"
      ],
      "metadata": {
        "colab": {
          "base_uri": "https://localhost:8080/"
        },
        "id": "Ogpzb4APWlYG",
        "outputId": "efbced29-d96b-4681-fece-ff12da7582e2"
      },
      "execution_count": null,
      "outputs": [
        {
          "output_type": "execute_result",
          "data": {
            "text/plain": [
              "LinearSVC(C=1.28, random_state=13)"
            ]
          },
          "metadata": {},
          "execution_count": 103
        }
      ]
    },
    {
      "cell_type": "markdown",
      "source": [
        "Коэффициенты гиерплоскости"
      ],
      "metadata": {
        "id": "dL5dgLhreACK"
      }
    },
    {
      "cell_type": "code",
      "source": [
        "coeff = pd.DataFrame(lsvc.coef_)\n",
        "print(round(coeff[0],2))\n",
        "print(round(coeff[33],2))\n",
        "print(round(coeff[335], 2))"
      ],
      "metadata": {
        "colab": {
          "base_uri": "https://localhost:8080/"
        },
        "id": "sIkBQY_ZXwny",
        "outputId": "45844a45-177c-437d-e4d1-40c6364d4b5c"
      },
      "execution_count": null,
      "outputs": [
        {
          "output_type": "stream",
          "name": "stdout",
          "text": [
            "0   -0.42\n",
            "Name: 0, dtype: float64\n",
            "0    0.91\n",
            "Name: 33, dtype: float64\n",
            "0   -0.01\n",
            "Name: 335, dtype: float64\n"
          ]
        }
      ]
    },
    {
      "cell_type": "markdown",
      "source": [
        "Матрица ошибок"
      ],
      "metadata": {
        "id": "Vx1ARhfDd8iQ"
      }
    },
    {
      "cell_type": "code",
      "source": [
        "ypred = lsvc.predict(xtest)\n",
        "\n",
        "cm = confusion_matrix(ytest, ypred)\n",
        "print(cm)"
      ],
      "metadata": {
        "colab": {
          "base_uri": "https://localhost:8080/"
        },
        "id": "x5_UnnD2W4lS",
        "outputId": "3fe9b2f8-0104-46bf-c1a3-cc7fe3b61e74"
      },
      "execution_count": null,
      "outputs": [
        {
          "output_type": "stream",
          "name": "stdout",
          "text": [
            "[[85 37]\n",
            " [65 63]]\n"
          ]
        }
      ]
    },
    {
      "cell_type": "code",
      "source": [
        "cr = classification_report(ytest, ypred)\n",
        "print(cr)"
      ],
      "metadata": {
        "colab": {
          "base_uri": "https://localhost:8080/"
        },
        "id": "abZw8LrcXCKz",
        "outputId": "bba03340-bc00-49a1-f4c1-88ee04cde5a9"
      },
      "execution_count": null,
      "outputs": [
        {
          "output_type": "stream",
          "name": "stdout",
          "text": [
            "              precision    recall  f1-score   support\n",
            "\n",
            "           0       0.57      0.70      0.62       122\n",
            "           1       0.63      0.49      0.55       128\n",
            "\n",
            "    accuracy                           0.59       250\n",
            "   macro avg       0.60      0.59      0.59       250\n",
            "weighted avg       0.60      0.59      0.59       250\n",
            "\n"
          ]
        }
      ]
    },
    {
      "cell_type": "markdown",
      "source": [
        " F - метрика"
      ],
      "metadata": {
        "id": "SN9s7ijzd4hw"
      }
    },
    {
      "cell_type": "code",
      "source": [
        "F1_1 = 2 * (0.57*0.7)/(0.57+0.7)\n",
        "F1_1"
      ],
      "metadata": {
        "colab": {
          "base_uri": "https://localhost:8080/"
        },
        "id": "F36ZKO9dZVKe",
        "outputId": "d7bee479-5467-4640-8130-fe5547d00c3b"
      },
      "execution_count": null,
      "outputs": [
        {
          "output_type": "execute_result",
          "data": {
            "text/plain": [
              "0.6283464566929133"
            ]
          },
          "metadata": {},
          "execution_count": 75
        }
      ]
    },
    {
      "cell_type": "markdown",
      "source": [
        "Получаем предсказания"
      ],
      "metadata": {
        "id": "zXwP0jqqdyXP"
      }
    },
    {
      "cell_type": "code",
      "source": [
        "result = extract_histogram(cv2.imread('/content/drive/MyDrive/dc_ML/test/cat.1043.jpg'))\n",
        "result = extract_histogram(cv2.imread('/content/drive/MyDrive/dc_ML/test/cat.1037.jpg'))\n",
        "result = extract_histogram(cv2.imread('/content/drive/MyDrive/dc_ML/test/dog.1012.jpg'))\n",
        "# result = extract_histogram(cv2.imread('/content/drive/MyDrive/dc_ML/test/dog.1033.jpg'))\n",
        "X_train = pd.DataFrame(result).T\n",
        "\n",
        "X_train\n",
        "print(lsvc.predict(X_train))"
      ],
      "metadata": {
        "colab": {
          "base_uri": "https://localhost:8080/"
        },
        "id": "OWw3G1hPcGTh",
        "outputId": "a69d8871-93a2-4c0a-f651-8237b52726f9"
      },
      "execution_count": null,
      "outputs": [
        {
          "output_type": "stream",
          "name": "stdout",
          "text": [
            "[1]\n"
          ]
        }
      ]
    },
    {
      "cell_type": "code",
      "source": [],
      "metadata": {
        "colab": {
          "base_uri": "https://localhost:8080/"
        },
        "id": "CExtctCFaDyQ",
        "outputId": "d2a6f76b-ae78-4502-e451-1a7840356049"
      },
      "execution_count": null,
      "outputs": [
        {
          "output_type": "stream",
          "name": "stdout",
          "text": [
            "[1]\n"
          ]
        }
      ]
    }
  ]
}